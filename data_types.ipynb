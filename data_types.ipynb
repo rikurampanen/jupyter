{
 "cells": [
  {
   "cell_type": "markdown",
   "metadata": {},
   "source": [
    "## Common Data Types in Python\n",
    "Below are some common data types in Python along with examples:"
   ]
  },
  {
   "cell_type": "code",
   "execution_count": 1,
   "metadata": {},
   "outputs": [],
   "source": [
    "# Integer (int): Represents whole numbers without any decimal points.\n",
    "x = 5\n",
    "y = -10\n",
    "print(\"Integer (int) x:\", x)",
    "print(\"Integer (int) y:\", y)"
   ]
  },
  {
   "cell_type": "code",
   "execution_count": 2,
   "metadata": {},
   "outputs": [],
   "source": [
    "# Float (float): Represents numbers with decimal points.\n",
    "pi = 3.14159\n",
    "temperature = -23.5\n",
    "print(\"Pi:\", pi)",
    "print(\"Temperature:\", temperature)"
   ]
  },
  {
   "cell_type": "code",
   "execution_count": 3,
   "metadata": {},
   "outputs": [],
   "source": [
    "# String (str): Represents sequences of characters enclosed within single or double quotes.\n",
    "message = \"Hello, World!\"\n",
    "name = 'Alice'\n",
    "print(\"Message:\", message)",
    "print(\"Name:\", name)"
   ]
  },
  {
   "cell_type": "code",
   "execution_count": 4,
   "metadata": {},
   "outputs": [],
   "source": [
    "# Boolean (bool): Represents either True or False.\n",
    "is_raining = True\n",
    "is_sunny = False\n",
    "print(\"Is it raining:\", is_raining)",
    "print(\"Is it sunny:\", is_sunny)"
   ]
  },
  {
   "cell_type": "code",
   "execution_count": 5,
   "metadata": {},
   "outputs": [],
   "source": [
    "# List: Represents ordered sequences of elements.\n",
    "numbers = [1, 2, 3, 4, 5]\n",
    "names = ['Alice', 'Bob', 'Charlie']\n",
    "mixed_list = [10, 'apple', True, 3.14]\n",
    "print(\"Numbers:\", numbers)",
    "print(\"Names:\", names)",
    "print(\"Mixed list:\", mixed_list)"
   ]
  },
  {
   "cell_type": "code",
   "execution_count": 6,
   "metadata": {},
   "outputs": [],
   "source": [
    "# Tuple: Similar to lists, but tuples are immutable (cannot be modified after creation).\n",
    "coordinates = (10, 20)\n",
    "rgb_colors = ('red', 'green', 'blue')\n",
    "print(\"Coordinates:\", coordinates)",
    "print(\"RGB colors:\", rgb_colors)"
   ]
  },
  {
   "cell_type": "code",
   "execution_count": 7,
   "metadata": {},
   "outputs": [],
   "source": [
    "# Dictionary (dict): Represents key-value pairs where each key is associated with a value.\n",
    "person = {'name': 'Alice', 'age': 30, 'city': 'New York'}\n",
    "print(\"Dictionary:\", person)"
   ]
  },
  {
   "cell_type": "code",
   "execution_count": 8,
   "metadata": {},
   "outputs": [],
   "source": [
    "# Set: Represents an unordered collection of unique elements.\n",
    "unique_numbers = {1, 2, 3, 4, 5}\n",
    "vowels = {'a', 'e', 'i', 'o', 'u'}\n",
    "print(\"Unique numbers:\", unique_numbers)",
    "print(\"Vowels:\", vowels)"
   ]
  }
 ],
 "metadata": {
  "kernelspec": {
   "display_name": "Python 3",
   "language": "python",
   "name": "python3"
  },
  "language_info": {
   "codemirror_mode": {
    "name": "ipython",
    "version": 3
   },
   "file_extension": ".py",
   "mimetype": "text/x-python",
   "name": "python",
   "nbconvert_exporter": "python",
   "pygments_lexer": "ipython3",
   "version": "3.7.10"
  }
 },
 "nbformat": 4,
 "nbformat_minor": 5
}
