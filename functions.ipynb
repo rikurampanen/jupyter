{
 "cells": [
  {
   "cell_type": "markdown",
   "metadata": {},
   "source": [
    "# Functions in Python\n",
    "Functions in Python are a way to organize and reuse code. They allow you to define a block of code that can be called multiple times with different inputs. Functions are defined using the def keyword followed by the function name and parameters (if any). Here's a basic syntax of defining a function:\n",
    "\n",
    "```python\n",
    "def function_name(parameter1, parameter2, ...):\n",
    "    # Code block\n",
    "    # Perform some actions\n",
    "    return result\n",
    "\n",
    "Example:"
   ]
  },
  {
   "cell_type": "code",
   "execution_count": 22,
   "metadata": {},
   "outputs": [
    {
     "name": "stdout",
     "output_type": "stream",
     "text": [
      "Hello, world!\n"
     ]
    }
   ],
   "source": [
    "def hello_world():\n",
    "    print(\"Hello, world!\")\n",
    "\n",
    "# Call the function\n",
    "hello_world()"
   ]
  },
  {
   "cell_type": "markdown",
   "metadata": {},
   "source": [
    "## Parameters and Arguments\n",
    "Parameters are the variables listed inside the parentheses in the function definition. They are placeholders for the actual values that will be provided when the function is called. Arguments are the actual values passed to the function when it is called.\n",
    "\n",
    "Example:"
   ]
  },
  {
   "cell_type": "code",
   "execution_count": 23,
   "metadata": {},
   "outputs": [
    {
     "name": "stdout",
     "output_type": "stream",
     "text": [
      "8\n"
     ]
    }
   ],
   "source": [
    "def add_numbers(x, y):\n",
    "    print(x + y)\n",
    "\n",
    "# Call the function with arguments\n",
    "add_numbers(3, 5)\n"
   ]
  },
  {
   "cell_type": "markdown",
   "metadata": {},
   "source": [
    "## Return Statement\n",
    "The return statement is used to exit a function and return a value back to the caller. It can also be used to return multiple values as a tuple.\n",
    "\n",
    "Example:"
   ]
  },
  {
   "cell_type": "code",
   "execution_count": 24,
   "metadata": {},
   "outputs": [
    {
     "name": "stdout",
     "output_type": "stream",
     "text": [
      "8\n"
     ]
    }
   ],
   "source": [
    "def multiply(x, y):\n",
    "    return x * y\n",
    "\n",
    "# Call the function\n",
    "result = multiply(2, 4)\n",
    "print(result)  # Output: 8"
   ]
  },
  {
   "cell_type": "markdown",
   "metadata": {},
   "source": [
    "## Default Parameters\n",
    "You can specify default values for parameters in a function. If no argument is provided for a parameter with a default value, the default value will be used.\n",
    "\n",
    "Example:"
   ]
  },
  {
   "cell_type": "code",
   "execution_count": 25,
   "metadata": {},
   "outputs": [
    {
     "name": "stdout",
     "output_type": "stream",
     "text": [
      "Hello, Alice!\n",
      "Hello, World!\n"
     ]
    }
   ],
   "source": [
    "def greet(name=\"World\"):\n",
    "    return \"Hello, \" + name + \"!\"\n",
    "\n",
    "# Call the function with and without arguments\n",
    "message1 = greet(\"Alice\")\n",
    "message2 = greet()  # Will use default value \"World\"\n",
    "print(message1)  # Output: Hello, Alice!\n",
    "print(message2)  # Output: Hello, World!"
   ]
  },
  {
   "cell_type": "markdown",
   "metadata": {},
   "source": [
    "## Variable Number of Arguments\n",
    "Python allows you to pass a variable number of arguments to a function using *args and **kwargs. *args is used to pass a variable number of positional arguments, while **kwargs is used to pass a variable number of keyword arguments.\n",
    "\n",
    "Example:"
   ]
  },
  {
   "cell_type": "code",
   "execution_count": 26,
   "metadata": {},
   "outputs": [
    {
     "name": "stdout",
     "output_type": "stream",
     "text": [
      "24\n"
     ]
    }
   ],
   "source": [
    "def multiply_numbers(*args):\n",
    "    result = 1\n",
    "    for num in args:\n",
    "        result *= num\n",
    "    return result\n",
    "\n",
    "# Call the function with variable number of arguments\n",
    "result = multiply_numbers(2, 3, 4)\n",
    "print(result)  # Output: 24"
   ]
  },
  {
   "cell_type": "markdown",
   "metadata": {},
   "source": [
    "## Scope of Variables\n",
    "Variables defined inside a function have local scope, meaning they can only be accessed within the function. Variables defined outside of any function have global scope and can be accessed from anywhere in the code.\n",
    "\n",
    "Example:"
   ]
  },
  {
   "cell_type": "code",
   "execution_count": 27,
   "metadata": {},
   "outputs": [
    {
     "name": "stdout",
     "output_type": "stream",
     "text": [
      "I'm a local variable\n",
      "I'm a global variable\n"
     ]
    }
   ],
   "source": [
    "global_var = \"I'm a global variable\"\n",
    "\n",
    "def my_function():\n",
    "    local_var = \"I'm a local variable\"\n",
    "    print(local_var)\n",
    "    print(global_var)  # Can access global variable within the function\n",
    "\n",
    "# Call the function\n",
    "my_function()  # Output: I'm a local variable \\n I'm a global variable"
   ]
  }
 ],
 "metadata": {
  "kernelspec": {
   "display_name": "Python 3",
   "language": "python",
   "name": "python3"
  },
  "language_info": {
   "codemirror_mode": {
    "name": "ipython",
    "version": 3
   },
   "file_extension": ".py",
   "mimetype": "text/x-python",
   "name": "python",
   "nbconvert_exporter": "python",
   "pygments_lexer": "ipython3",
   "version": "3.12.1"
  }
 },
 "nbformat": 4,
 "nbformat_minor": 2
}
